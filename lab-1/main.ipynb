{
 "cells": [
  {
   "cell_type": "markdown",
   "source": [
    "1. Union"
   ],
   "metadata": {
    "collapsed": false
   },
   "id": "3e08c9c9313c016"
  },
  {
   "cell_type": "code",
   "execution_count": 2,
   "id": "initial_id",
   "metadata": {
    "collapsed": true,
    "ExecuteTime": {
     "end_time": "2024-02-29T19:54:22.255228Z",
     "start_time": "2024-02-29T19:54:22.247647Z"
    }
   },
   "outputs": [
    {
     "name": "stdout",
     "output_type": "stream",
     "text": [
      "{2, 3, 4, 5, 6}\n"
     ]
    }
   ],
   "source": [
    "a = {2, 3, 4}\n",
    "b = {3, 5, 6}\n",
    "a_union_b = a.union(b)\n",
    "print(a_union_b)"
   ]
  },
  {
   "cell_type": "markdown",
   "source": [
    "2. Intersection"
   ],
   "metadata": {
    "collapsed": false
   },
   "id": "8c44e39985662d6"
  },
  {
   "cell_type": "code",
   "outputs": [
    {
     "name": "stdout",
     "output_type": "stream",
     "text": [
      "{3, 4}\n"
     ]
    }
   ],
   "source": [
    "a = {2, 3, 4}\n",
    "b = {3, 4, 5, 6}\n",
    "a_intersection_b = a.intersection(b)\n",
    "print(a_intersection_b)"
   ],
   "metadata": {
    "collapsed": false,
    "ExecuteTime": {
     "end_time": "2024-02-29T20:35:10.969244Z",
     "start_time": "2024-02-29T20:35:10.961211Z"
    }
   },
   "id": "4683ae857368c5b2",
   "execution_count": 3
  },
  {
   "cell_type": "markdown",
   "source": [
    "3. Difference"
   ],
   "metadata": {
    "collapsed": false
   },
   "id": "2fdb7af6e919d2d7"
  },
  {
   "cell_type": "code",
   "outputs": [
    {
     "name": "stdout",
     "output_type": "stream",
     "text": [
      "{2, 5}\n",
      "difference is NOT commutative\n"
     ]
    }
   ],
   "source": [
    "a = {2, 3, 4, 5}\n",
    "b = {3, 4, 7, 9}\n",
    "a_diff_b = a.difference(b)\n",
    "b_diff_a = b.difference(a)\n",
    "print (a_diff_b)\n",
    "print(\"difference is commutative\" if a_diff_b == b_diff_a else \"difference is NOT commutative\")"
   ],
   "metadata": {
    "collapsed": false,
    "ExecuteTime": {
     "end_time": "2024-02-29T20:44:33.273840Z",
     "start_time": "2024-02-29T20:44:33.266987Z"
    }
   },
   "id": "8b055dd064dac9f5",
   "execution_count": 6
  },
  {
   "cell_type": "markdown",
   "source": [
    "3.1 Symmetric Difference"
   ],
   "metadata": {
    "collapsed": false
   },
   "id": "36e8ccc75f3cb1db"
  },
  {
   "cell_type": "code",
   "outputs": [
    {
     "name": "stdout",
     "output_type": "stream",
     "text": [
      "{2, 5, 7, 9}\n"
     ]
    }
   ],
   "source": [
    "a = {2, 3, 4, 5}\n",
    "b = {3, 4, 7, 9}\n",
    "symm_diff = a ^ b\n",
    "print(symm_diff)"
   ],
   "metadata": {
    "collapsed": false,
    "ExecuteTime": {
     "end_time": "2024-02-29T20:53:26.579763Z",
     "start_time": "2024-02-29T20:53:26.574148Z"
    }
   },
   "id": "dd4fbb6ae4eb9c0d",
   "execution_count": 7
  },
  {
   "cell_type": "markdown",
   "source": [
    "4. Complement"
   ],
   "metadata": {
    "collapsed": false
   },
   "id": "24209911e8f3acdb"
  },
  {
   "cell_type": "code",
   "outputs": [],
   "source": [
    "# Define the universal set\n",
    "universal_set = {1, 2, 3, 4, 5}\n",
    "\n",
    "# Define a set\n",
    "set_A = {2, 4}\n",
    "\n",
    "# Get the complement of set_A with respect to the universal set\n",
    "complement_A = universal_set - set_A\n",
    "\n",
    "print(complement_A)  # Output: {1, 3, 5}"
   ],
   "metadata": {
    "collapsed": false
   },
   "id": "250f6f2c53fa0402"
  }
 ],
 "metadata": {
  "kernelspec": {
   "display_name": "Python 3",
   "language": "python",
   "name": "python3"
  },
  "language_info": {
   "codemirror_mode": {
    "name": "ipython",
    "version": 2
   },
   "file_extension": ".py",
   "mimetype": "text/x-python",
   "name": "python",
   "nbconvert_exporter": "python",
   "pygments_lexer": "ipython2",
   "version": "2.7.6"
  }
 },
 "nbformat": 4,
 "nbformat_minor": 5
}
